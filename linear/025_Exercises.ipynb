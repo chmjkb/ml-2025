{
 "cells": [
  {
   "cell_type": "markdown",
   "metadata": {},
   "source": [
    "# Exercises\n",
    "\n",
    "There are three exercises in this notebook:\n",
    "\n",
    "1. Use the cross-validation method to test the linear regression with different $\\alpha$ values, at least three.\n",
    "2. Implement a SGD method that will train the Lasso regression for 10 epochs.\n",
    "3. Extend the Fisher's classifier to work with two features. Use the class as the $y$."
   ]
  },
  {
   "cell_type": "code",
   "execution_count": 1,
   "metadata": {},
   "outputs": [],
   "source": [
    "import numpy as np"
   ]
  },
  {
   "cell_type": "code",
   "execution_count": 2,
   "metadata": {},
   "outputs": [],
   "source": [
    "%load_ext autoreload\n",
    "%autoreload 2"
   ]
  },
  {
   "cell_type": "markdown",
   "metadata": {},
   "source": [
    "## 1. Cross-validation linear regression\n",
    "\n",
    "You need to change the variable ``alpha`` to be a list of alphas. Next do a loop and finally compare the results."
   ]
  },
  {
   "cell_type": "code",
   "execution_count": 31,
   "metadata": {},
   "outputs": [
    {
     "name": "stdout",
     "output_type": "stream",
     "text": [
      "alpha=0.1\tMSE=426.04507708317476\n",
      "alpha=0.15\tMSE=453.6802014401018\n",
      "alpha=0.02\tMSE=377.4196885131722\n"
     ]
    }
   ],
   "source": [
    "x = (\n",
    "    np.array(\n",
    "        [188, 181, 197, 168, 167, 187, 178, 194, 140, 176, 168, 192, 173, 142, 176]\n",
    "    )\n",
    "    .reshape(-1, 1)\n",
    "    .reshape(15, 1)\n",
    ")\n",
    "y = (\n",
    "    np.array([141, 106, 149, 59, 79, 136, 65, 136, 52, 87, 115, 140, 82, 69, 121])\n",
    "    .reshape(-1, 1)\n",
    "    .reshape(15, 1)\n",
    ")\n",
    "\n",
    "x = np.asmatrix(np.c_[np.ones((15, 1)), x])\n",
    "\n",
    "\n",
    "I = np.identity(2)\n",
    "alphas = [0.1, 0.15, 0.02]\n",
    "\n",
    "models = []\n",
    "for alpha in alphas:\n",
    "    w = np.linalg.inv(x.T * x + alpha * I) * x.T * y\n",
    "    models.append(w.ravel())\n",
    "\n",
    "y_array = np.asarray(y)\n",
    "for idx, model in enumerate(models):\n",
    "    _y = (model @ x.T).T\n",
    "    _y_array = np.asarray(_y)\n",
    "    mse = ((_y_array - y_array) ** 2).mean()\n",
    "    print(f\"alpha={alphas[idx]}\\tMSE={mse}\")"
   ]
  },
  {
   "cell_type": "markdown",
   "metadata": {},
   "source": [
    "## 2. Implement based on the Ridge regression example, the Lasso regression.\n",
    "\n",
    "Please implement the SGD method and compare the results with the sklearn Lasso regression results. "
   ]
  },
  {
   "cell_type": "code",
   "execution_count": null,
   "metadata": {},
   "outputs": [
    {
     "name": "stdout",
     "output_type": "stream",
     "text": [
      "[[102.52635232]\n",
      " [ 26.30569287]]\n"
     ]
    }
   ],
   "source": [
    "import numpy as np\n",
    "from sklearn.preprocessing import StandardScaler\n",
    "\n",
    "x = np.array(\n",
    "    [188, 181, 197, 168, 167, 187, 178, 194, 140, 176, 168, 192, 173, 142, 176]\n",
    ").reshape(-1, 1)\n",
    "y = np.array(\n",
    "    [141, 106, 149, 59, 79, 136, 65, 136, 52, 87, 115, 140, 82, 69, 121]\n",
    ").reshape(-1, 1)\n",
    "\n",
    "# Add intercept column\n",
    "x_new = np.c_[np.ones((15, 1)), x]\n",
    "\n",
    "scaler = StandardScaler()\n",
    "x_new[:, 1:] = scaler.fit_transform(x_new[:, 1:])\n",
    "\n",
    "\n",
    "def sgd(x, y, alpha, epochs):\n",
    "    rows, cols = x.shape\n",
    "    weights = np.zeros((cols, 1))  # Initialize weights to zeros\n",
    "    for epoch in range(epochs):\n",
    "        # Shuffle the data to make it stochastic\n",
    "        indices = np.arange(rows)\n",
    "        np.random.shuffle(indices)\n",
    "        x_shuffled = x[indices]\n",
    "        y_shuffled = y[indices]\n",
    "        for i in range(rows):\n",
    "            xi = x_shuffled[i : i + 1]  # Ensuring 2D array structure\n",
    "            yi = y_shuffled[i, 0]  # Extracting single target value\n",
    "            prediction = xi.dot(weights)\n",
    "            error = yi - prediction\n",
    "            gradient = -2 * xi.T.dot(error)  # Gradient calculation per sample\n",
    "            weights -= alpha * gradient  # Update the weights\n",
    "\n",
    "    return weights\n",
    "\n",
    "\n",
    "weights = sgd(x_new, y, alpha=1e-2, epochs=10000)\n",
    "\n",
    "print(weights)"
   ]
  },
  {
   "cell_type": "code",
   "execution_count": 33,
   "metadata": {},
   "outputs": [
    {
     "name": "stdout",
     "output_type": "stream",
     "text": [
      "[ 0.         25.33725365] [102.46666667]\n"
     ]
    }
   ],
   "source": [
    "from sklearn.linear_model import Lasso\n",
    "\n",
    "lasso_regressor = Lasso(alpha=1.0)\n",
    "lasso_regressor.fit(np.asarray(x_new), np.asarray(y))\n",
    "print(lasso_regressor.coef_, lasso_regressor.intercept_)"
   ]
  },
  {
   "cell_type": "markdown",
   "metadata": {},
   "source": [
    "## 3. Extend the Fisher's classifier\n",
    "\n",
    "Please extend the targets of the ``iris_data`` variable and use it as the $y$."
   ]
  },
  {
   "cell_type": "code",
   "execution_count": 34,
   "metadata": {},
   "outputs": [
    {
     "data": {
      "text/html": [
       "<div>\n",
       "<style scoped>\n",
       "    .dataframe tbody tr th:only-of-type {\n",
       "        vertical-align: middle;\n",
       "    }\n",
       "\n",
       "    .dataframe tbody tr th {\n",
       "        vertical-align: top;\n",
       "    }\n",
       "\n",
       "    .dataframe thead th {\n",
       "        text-align: right;\n",
       "    }\n",
       "</style>\n",
       "<table border=\"1\" class=\"dataframe\">\n",
       "  <thead>\n",
       "    <tr style=\"text-align: right;\">\n",
       "      <th></th>\n",
       "      <th>0</th>\n",
       "      <th>1</th>\n",
       "      <th>2</th>\n",
       "      <th>3</th>\n",
       "    </tr>\n",
       "  </thead>\n",
       "  <tbody>\n",
       "    <tr>\n",
       "      <th>0</th>\n",
       "      <td>1.244804</td>\n",
       "      <td>1.005314</td>\n",
       "      <td>0.690983</td>\n",
       "      <td>0.511365</td>\n",
       "    </tr>\n",
       "    <tr>\n",
       "      <th>1</th>\n",
       "      <td>1.214867</td>\n",
       "      <td>0.930473</td>\n",
       "      <td>0.690983</td>\n",
       "      <td>0.511365</td>\n",
       "    </tr>\n",
       "    <tr>\n",
       "      <th>2</th>\n",
       "      <td>1.184931</td>\n",
       "      <td>0.960409</td>\n",
       "      <td>0.676015</td>\n",
       "      <td>0.511365</td>\n",
       "    </tr>\n",
       "    <tr>\n",
       "      <th>3</th>\n",
       "      <td>1.169963</td>\n",
       "      <td>0.945441</td>\n",
       "      <td>0.705951</td>\n",
       "      <td>0.511365</td>\n",
       "    </tr>\n",
       "    <tr>\n",
       "      <th>4</th>\n",
       "      <td>1.229836</td>\n",
       "      <td>1.020282</td>\n",
       "      <td>0.690983</td>\n",
       "      <td>0.511365</td>\n",
       "    </tr>\n",
       "    <tr>\n",
       "      <th>...</th>\n",
       "      <td>...</td>\n",
       "      <td>...</td>\n",
       "      <td>...</td>\n",
       "      <td>...</td>\n",
       "    </tr>\n",
       "    <tr>\n",
       "      <th>145</th>\n",
       "      <td>1.484294</td>\n",
       "      <td>0.930473</td>\n",
       "      <td>1.259772</td>\n",
       "      <td>0.825696</td>\n",
       "    </tr>\n",
       "    <tr>\n",
       "      <th>146</th>\n",
       "      <td>1.424421</td>\n",
       "      <td>0.855632</td>\n",
       "      <td>1.229836</td>\n",
       "      <td>0.765824</td>\n",
       "    </tr>\n",
       "    <tr>\n",
       "      <th>147</th>\n",
       "      <td>1.454357</td>\n",
       "      <td>0.930473</td>\n",
       "      <td>1.259772</td>\n",
       "      <td>0.780792</td>\n",
       "    </tr>\n",
       "    <tr>\n",
       "      <th>148</th>\n",
       "      <td>1.409453</td>\n",
       "      <td>0.990346</td>\n",
       "      <td>1.289708</td>\n",
       "      <td>0.825696</td>\n",
       "    </tr>\n",
       "    <tr>\n",
       "      <th>149</th>\n",
       "      <td>1.364549</td>\n",
       "      <td>0.930473</td>\n",
       "      <td>1.244804</td>\n",
       "      <td>0.750856</td>\n",
       "    </tr>\n",
       "  </tbody>\n",
       "</table>\n",
       "<p>150 rows × 4 columns</p>\n",
       "</div>"
      ],
      "text/plain": [
       "            0         1         2         3\n",
       "0    1.244804  1.005314  0.690983  0.511365\n",
       "1    1.214867  0.930473  0.690983  0.511365\n",
       "2    1.184931  0.960409  0.676015  0.511365\n",
       "3    1.169963  0.945441  0.705951  0.511365\n",
       "4    1.229836  1.020282  0.690983  0.511365\n",
       "..        ...       ...       ...       ...\n",
       "145  1.484294  0.930473  1.259772  0.825696\n",
       "146  1.424421  0.855632  1.229836  0.765824\n",
       "147  1.454357  0.930473  1.259772  0.780792\n",
       "148  1.409453  0.990346  1.289708  0.825696\n",
       "149  1.364549  0.930473  1.244804  0.750856\n",
       "\n",
       "[150 rows x 4 columns]"
      ]
     },
     "execution_count": 34,
     "metadata": {},
     "output_type": "execute_result"
    }
   ],
   "source": [
    "import pandas as pd\n",
    "import numpy as np\n",
    "import matplotlib.pyplot as plt\n",
    "from sklearn.datasets import load_iris\n",
    "\n",
    "iris_data = load_iris()\n",
    "iris_df = pd.DataFrame(iris_data.data,columns=iris_data.feature_names)\n",
    "iris_df['target'] = iris_data.target\n",
    "iris_df.head()\n",
    "\n",
    "independent_variables = ['sepal length (cm)', 'sepal width (cm)', 'petal length (cm)', 'petal width (cm)']\n",
    "dependent_variable = 'target'\n",
    "x = iris_df[independent_variables].values # change here\n",
    "y = iris_df[dependent_variable].values.reshape(-1, 1) # change here\n",
    "\n",
    "dataset_size = np.size(x)\n",
    "\n",
    "mean_x, mean_y = np.mean(x), np.mean(y)\n",
    "\n",
    "SS_xy = np.sum(y * x) - dataset_size * mean_y * mean_x\n",
    "SS_xx = np.sum(x * x) - dataset_size * mean_x * mean_x\n",
    "\n",
    "a = SS_xy / SS_xx\n",
    "b = mean_y - a * mean_x\n",
    "\n",
    "\n",
    "y_pred = a * x + b\n",
    "df = pd.DataFrame(y_pred)\n",
    "df\n"
   ]
  },
  {
   "cell_type": "code",
   "execution_count": null,
   "metadata": {},
   "outputs": [],
   "source": []
  }
 ],
 "metadata": {
  "kernelspec": {
   "display_name": ".venv",
   "language": "python",
   "name": "python3"
  },
  "language_info": {
   "codemirror_mode": {
    "name": "ipython",
    "version": 3
   },
   "file_extension": ".py",
   "mimetype": "text/x-python",
   "name": "python",
   "nbconvert_exporter": "python",
   "pygments_lexer": "ipython3",
   "version": "3.13.1"
  }
 },
 "nbformat": 4,
 "nbformat_minor": 4
}
